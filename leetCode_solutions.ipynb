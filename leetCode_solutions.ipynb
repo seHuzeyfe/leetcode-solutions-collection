{
 "cells": [
  {
   "cell_type": "code",
   "execution_count": null,
   "metadata": {},
   "outputs": [],
   "source": [
    "class Solution(object):\n",
    "    def maxProfit(self, prices):\n",
    "        \"\"\"\n",
    "        :type prices: List[int]\n",
    "        :rtype: int\n",
    "        \"\"\"\n",
    "\n",
    "        min_price = 999999\n",
    "        max_profit = 0\n",
    "\n",
    "        for price in prices:\n",
    "            if price < min_price:\n",
    "                min_price = price\n",
    "            \n",
    "            prophit = price - min_price\n",
    "\n",
    "            if prophit > max_profit:\n",
    "                max_profit = prophit\n",
    "        return max_profit\n",
    "\n",
    "\n",
    "nums1 = [7, 1, 5, 3, 6, 4]\n",
    "nums2  = [2,5,6]\n",
    "m = 3\n",
    "n = 3\n",
    "solution = Solution()\n",
    "print(solution.maxProfit(nums1))"
   ]
  },
  {
   "cell_type": "code",
   "execution_count": null,
   "metadata": {},
   "outputs": [],
   "source": [
    "'''[Coding] Using the given array: 1, 2, 2, 3, 3, 3, 5, 7, 11, 15\n",
    "In any programming language, write an algorithm to calculate the result of the given formula in picture attached.\n",
    "n - number of elements from given array\n",
    "Xi - element from array with index i '''\n",
    "\n",
    "# i=0 -> n-1 , x**i / i!\n",
    "from typing import List\n",
    "def factorial(num):\n",
    "    factorial = 1\n",
    "    for i in range(1,num+1):\n",
    "        factorial = factorial * i\n",
    "    return factorial\n",
    "\n",
    "def algorithm(nums:List[int]) -> float:\n",
    "    result = 0\n",
    "    for i in range(len(nums)):\n",
    "        result += (nums[i]**i) / factorial(i)\n",
    "    return result\n",
    "\n",
    "\n",
    "nums = [1, 2, 2, 3, 3, 3, 5, 7, 11, 15]\n",
    "print(algorithm(nums))"
   ]
  },
  {
   "cell_type": "code",
   "execution_count": 28,
   "metadata": {},
   "outputs": [
    {
     "name": "stdout",
     "output_type": "stream",
     "text": [
      "7\n"
     ]
    }
   ],
   "source": [
    "# Best time to buy and sell stock 2\n",
    "from typing import List\n",
    "def maxProfit(prices):\n",
    "        \"\"\"\n",
    "        :type prices: List[int]\n",
    "        :rtype: int\n",
    "        \"\"\"\n",
    "        max_profit = 0\n",
    "\n",
    "        for i in range (1,len(prices)):\n",
    "            if prices[i] > prices[i-1]:\n",
    "                  max_profit += prices[i] - prices[i-1] \n",
    "        return max_profit\n",
    "\n",
    "nums = [7,1,5,3,6,4]\n",
    "print(maxProfit(nums))"
   ]
  },
  {
   "cell_type": "code",
   "execution_count": 4,
   "metadata": {},
   "outputs": [
    {
     "name": "stdout",
     "output_type": "stream",
     "text": [
      "0   3\n",
      "1   3\n",
      "2   3\n",
      "3   3\n",
      "False\n"
     ]
    }
   ],
   "source": [
    "# Maximum reach\n",
    "\n",
    "class Solution(object):\n",
    "    def canJump(self, nums):\n",
    "        max_reach = 0\n",
    "        for i in range(len(nums)):\n",
    "            if i > max_reach:\n",
    "                return False\n",
    "            \n",
    "            max_reach = max(max_reach,i+nums[i])\n",
    "            print(i , \" \" , max_reach)\n",
    "\n",
    "            if max_reach >= len(nums) -1:\n",
    "                return True\n",
    "            \n",
    "\n",
    "\n",
    "\n",
    "solution = Solution()\n",
    "nums = [3,2,1,0,4]\n",
    "print(solution.canJump(nums))"
   ]
  },
  {
   "cell_type": "code",
   "execution_count": 15,
   "metadata": {},
   "outputs": [
    {
     "name": "stdout",
     "output_type": "stream",
     "text": [
      "[6, 5, 3, 1, 0]\n",
      "3\n"
     ]
    }
   ],
   "source": [
    "# H-index , max citations\n",
    "\n",
    "class Solution(object):\n",
    "    def hIndex(self, citations):\n",
    "        \"\"\"\n",
    "        :type citations: List[int]\n",
    "        :rtype: int\n",
    "        \"\"\"\n",
    "\n",
    "        for i in range (len(citations)):\n",
    "            min_index = i\n",
    "            for j in range(i+1,len(citations)):\n",
    "                if citations[j] > citations[min_index]:\n",
    "                    min_index = j\n",
    "            citations[i] , citations[min_index] = citations[min_index] , citations[i]\n",
    "\n",
    "        print(citations)\n",
    "        \n",
    "        h_index = 0\n",
    "        for i , citation in enumerate(citations):\n",
    "            if citation >= i+1:\n",
    "                h_index = i+1\n",
    "            else :\n",
    "                break\n",
    "\n",
    "        return h_index\n",
    "        \n",
    "solution = Solution()\n",
    "nums = [3,0,6,1,5]\n",
    "print(solution.hIndex(nums))"
   ]
  }
 ],
 "metadata": {
  "kernelspec": {
   "display_name": "cuda",
   "language": "python",
   "name": "python3"
  },
  "language_info": {
   "codemirror_mode": {
    "name": "ipython",
    "version": 3
   },
   "file_extension": ".py",
   "mimetype": "text/x-python",
   "name": "python",
   "nbconvert_exporter": "python",
   "pygments_lexer": "ipython3",
   "version": "3.8.20"
  }
 },
 "nbformat": 4,
 "nbformat_minor": 2
}
